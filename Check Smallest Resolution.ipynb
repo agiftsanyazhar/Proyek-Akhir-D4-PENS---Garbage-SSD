{
 "cells": [
  {
   "cell_type": "code",
   "execution_count": 3,
   "metadata": {},
   "outputs": [],
   "source": [
    "import os\n",
    "import cv2"
   ]
  },
  {
   "cell_type": "code",
   "execution_count": 4,
   "metadata": {},
   "outputs": [
    {
     "ename": "AttributeError",
     "evalue": "'NoneType' object has no attribute 'shape'",
     "output_type": "error",
     "traceback": [
      "\u001b[1;31m---------------------------------------------------------------------------\u001b[0m",
      "\u001b[1;31mAttributeError\u001b[0m                            Traceback (most recent call last)",
      "\u001b[1;32md:\\Kuliah\\D4 - PENS\\Proyek Akhir\\Project\\Program\\Garbage\\Check Smallest Resolution.ipynb Cell 2\u001b[0m line \u001b[0;36m3\n\u001b[0;32m     <a href='vscode-notebook-cell:/d%3A/Kuliah/D4%20-%20PENS/Proyek%20Akhir/Project/Program/Garbage/Check%20Smallest%20Resolution.ipynb#W1sZmlsZQ%3D%3D?line=27'>28</a>\u001b[0m img \u001b[39m=\u001b[39m cv2\u001b[39m.\u001b[39mimread(image_file)\n\u001b[0;32m     <a href='vscode-notebook-cell:/d%3A/Kuliah/D4%20-%20PENS/Proyek%20Akhir/Project/Program/Garbage/Check%20Smallest%20Resolution.ipynb#W1sZmlsZQ%3D%3D?line=29'>30</a>\u001b[0m \u001b[39m# Calculate the resolution of the image\u001b[39;00m\n\u001b[1;32m---> <a href='vscode-notebook-cell:/d%3A/Kuliah/D4%20-%20PENS/Proyek%20Akhir/Project/Program/Garbage/Check%20Smallest%20Resolution.ipynb#W1sZmlsZQ%3D%3D?line=30'>31</a>\u001b[0m resolution \u001b[39m=\u001b[39m img\u001b[39m.\u001b[39;49mshape[\u001b[39m0\u001b[39m] \u001b[39m*\u001b[39m img\u001b[39m.\u001b[39mshape[\u001b[39m1\u001b[39m]  \u001b[39m# height * width\u001b[39;00m\n\u001b[0;32m     <a href='vscode-notebook-cell:/d%3A/Kuliah/D4%20-%20PENS/Proyek%20Akhir/Project/Program/Garbage/Check%20Smallest%20Resolution.ipynb#W1sZmlsZQ%3D%3D?line=32'>33</a>\u001b[0m \u001b[39m# If the resolution of the current image is smaller than the current minimum,\u001b[39;00m\n\u001b[0;32m     <a href='vscode-notebook-cell:/d%3A/Kuliah/D4%20-%20PENS/Proyek%20Akhir/Project/Program/Garbage/Check%20Smallest%20Resolution.ipynb#W1sZmlsZQ%3D%3D?line=33'>34</a>\u001b[0m \u001b[39m# update the minimum resolution and the corresponding image file\u001b[39;00m\n\u001b[0;32m     <a href='vscode-notebook-cell:/d%3A/Kuliah/D4%20-%20PENS/Proyek%20Akhir/Project/Program/Garbage/Check%20Smallest%20Resolution.ipynb#W1sZmlsZQ%3D%3D?line=34'>35</a>\u001b[0m \u001b[39mif\u001b[39;00m resolution \u001b[39m<\u001b[39m min_resolution:\n",
      "\u001b[1;31mAttributeError\u001b[0m: 'NoneType' object has no attribute 'shape'"
     ]
    }
   ],
   "source": [
    "# Define the base directory containing subdirectories for each class\n",
    "base_dir = \"workspace/images\"\n",
    "\n",
    "# List all subdirectories (each representing a class)\n",
    "class_directories = [\n",
    "    os.path.join(base_dir, d)\n",
    "    for d in os.listdir(base_dir)\n",
    "    if os.path.isdir(os.path.join(base_dir, d))\n",
    "]\n",
    "\n",
    "# Initialize minimum resolution to a large value\n",
    "min_resolution = float(\"inf\")\n",
    "min_resolution_image = \"\"\n",
    "min_resolution_dims = (0, 0)  # (height, width)\n",
    "\n",
    "# Iterate over each class directory\n",
    "for class_dir in class_directories:\n",
    "    # Get a list of all image file paths in the current class directory\n",
    "    image_files = [\n",
    "        os.path.join(class_dir, f)\n",
    "        for f in os.listdir(class_dir)\n",
    "        if os.path.isfile(os.path.join(class_dir, f))\n",
    "    ]\n",
    "\n",
    "    # Iterate over each image file\n",
    "    for image_file in image_files:\n",
    "        # Load the image using OpenCV\n",
    "        img = cv2.imread(image_file)\n",
    "\n",
    "        # Calculate the resolution of the image\n",
    "        resolution = img.shape[0] * img.shape[1]  # height * width\n",
    "\n",
    "        # If the resolution of the current image is smaller than the current minimum,\n",
    "        # update the minimum resolution and the corresponding image file\n",
    "        if resolution < min_resolution:\n",
    "            min_resolution = resolution\n",
    "            min_resolution_image = image_file\n",
    "            min_resolution_dims = img.shape[:2]  # (height, width)\n",
    "\n",
    "# Print the image file with the smallest resolution, its resolution, and its dimensions\n",
    "print(\n",
    "    f\"The image file with the smallest resolution is {min_resolution_image} with a resolution of {min_resolution} and dimensions {min_resolution_dims}.\"\n",
    ")"
   ]
  }
 ],
 "metadata": {
  "kernelspec": {
   "display_name": ".venv",
   "language": "python",
   "name": "python3"
  },
  "language_info": {
   "codemirror_mode": {
    "name": "ipython",
    "version": 3
   },
   "file_extension": ".py",
   "mimetype": "text/x-python",
   "name": "python",
   "nbconvert_exporter": "python",
   "pygments_lexer": "ipython3",
   "version": "3.9.13"
  },
  "orig_nbformat": 4
 },
 "nbformat": 4,
 "nbformat_minor": 2
}
