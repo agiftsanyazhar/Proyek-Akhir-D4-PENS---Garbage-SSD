{
 "cells": [
  {
   "cell_type": "code",
   "execution_count": 1,
   "metadata": {},
   "outputs": [],
   "source": [
    "import os"
   ]
  },
  {
   "cell_type": "markdown",
   "metadata": {},
   "source": [
    "## For Raw Dataset"
   ]
  },
  {
   "cell_type": "code",
   "execution_count": 73,
   "metadata": {},
   "outputs": [],
   "source": [
    "# specify the directory you want to change the file names in\n",
    "directory = \"data/images/tong_sampah\"\n",
    "\n",
    "# get list of files in the directory\n",
    "files = os.listdir(directory)\n",
    "\n",
    "# sort files by creation date\n",
    "files.sort(key=lambda x: os.path.getmtime(os.path.join(directory, x)))\n",
    "\n",
    "# rename files\n",
    "for i, filename in enumerate(files):\n",
    "    new_name = \"tong_sampah_\" + str(i)\n",
    "    old_file_path = os.path.join(directory, filename)\n",
    "    new_file_path = os.path.join(directory, new_name + os.path.splitext(filename)[1])\n",
    "    os.rename(old_file_path, new_file_path)"
   ]
  },
  {
   "cell_type": "markdown",
   "metadata": {},
   "source": [
    "## For Project Dataset"
   ]
  },
  {
   "cell_type": "code",
   "execution_count": 75,
   "metadata": {},
   "outputs": [],
   "source": [
    "def rename_files_in_class(class_directory):\n",
    "    class_name = os.path.basename(class_directory)\n",
    "    files = [\n",
    "        f\n",
    "        for f in os.listdir(class_directory)\n",
    "        if os.path.isfile(os.path.join(class_directory, f))\n",
    "    ]\n",
    "    class_counts = {}\n",
    "\n",
    "    # Find the maximum count for the class\n",
    "    for filename in files:\n",
    "        if class_name in filename:\n",
    "            count = int(filename.split(\"_\")[-1].split(\".\")[0])\n",
    "            if class_name not in class_counts or count > class_counts[class_name]:\n",
    "                class_counts[class_name] = count\n",
    "\n",
    "    # Rename the files starting from the maximum count + 1\n",
    "    for filename in files:\n",
    "        if class_name in filename:\n",
    "            continue  # File already named with class, skip renaming\n",
    "        else:\n",
    "            class_counts[class_name] += 1\n",
    "            new_filename = f\"{class_name}_{class_counts[class_name]}.jpg\"\n",
    "            os.rename(\n",
    "                os.path.join(class_directory, filename),\n",
    "                os.path.join(class_directory, new_filename),\n",
    "            )\n",
    "\n",
    "\n",
    "# Example usage:\n",
    "class_directory = \"data/images/tong_sampah\"\n",
    "rename_files_in_class(class_directory)"
   ]
  },
  {
   "cell_type": "markdown",
   "metadata": {},
   "source": [
    "## Start with 0 (anorganik_00.jpg to anorganik_0.jpg)"
   ]
  },
  {
   "cell_type": "code",
   "execution_count": 9,
   "metadata": {},
   "outputs": [
    {
     "name": "stdout",
     "output_type": "stream",
     "text": [
      "Renamed anorganik_03.jpg to anorganik_3.jpg\n",
      "Renamed anorganik_03.xml to anorganik_3.xml\n",
      "Renamed botol_kaca_01.jpg to botol_kaca_1.jpg\n",
      "Renamed botol_kaca_01.xml to botol_kaca_1.xml\n",
      "Renamed botol_kaca_03.jpg to botol_kaca_3.jpg\n",
      "Renamed botol_kaca_03.xml to botol_kaca_3.xml\n",
      "Renamed botol_kaca_06.jpg to botol_kaca_6.jpg\n",
      "Renamed botol_kaca_06.xml to botol_kaca_6.xml\n",
      "Renamed botol_kaca_08.jpg to botol_kaca_8.jpg\n",
      "Renamed botol_kaca_08.xml to botol_kaca_8.xml\n",
      "Renamed botol_plastik_05.jpg to botol_plastik_5.jpg\n",
      "Renamed botol_plastik_05.xml to botol_plastik_5.xml\n"
     ]
    }
   ],
   "source": [
    "# Define the directory path\n",
    "directory = \"workspace/images/test\"\n",
    "\n",
    "# Iterate over the files in the directory\n",
    "for filename in os.listdir(directory):\n",
    "    # Split the filename into base and extension\n",
    "    base, ext = os.path.splitext(filename)\n",
    "    # Split the base into prefix and index\n",
    "    prefix, index = base.rsplit(\"_\", 1)\n",
    "    # Check if the index ends with '00'\n",
    "    if index.startswith(\"0\"):\n",
    "        # Strip the leading zeros\n",
    "        index = str(int(index))\n",
    "        # Construct the new filename\n",
    "        new_filename = f\"{prefix}_{index}{ext}\"\n",
    "        # Rename the file\n",
    "        os.rename(\n",
    "            os.path.join(directory, filename),\n",
    "            os.path.join(directory, new_filename),\n",
    "        )\n",
    "        print(f\"Renamed {filename} to {new_filename}\")"
   ]
  }
 ],
 "metadata": {
  "kernelspec": {
   "display_name": ".venv",
   "language": "python",
   "name": "python3"
  },
  "language_info": {
   "codemirror_mode": {
    "name": "ipython",
    "version": 3
   },
   "file_extension": ".py",
   "mimetype": "text/x-python",
   "name": "python",
   "nbconvert_exporter": "python",
   "pygments_lexer": "ipython3",
   "version": "3.9.13"
  },
  "orig_nbformat": 4
 },
 "nbformat": 4,
 "nbformat_minor": 2
}
